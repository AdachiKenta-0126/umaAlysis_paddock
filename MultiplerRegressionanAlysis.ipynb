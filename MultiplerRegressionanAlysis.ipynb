{
 "cells": [
  {
   "cell_type": "code",
   "execution_count": 24,
   "id": "1b7c115c",
   "metadata": {},
   "outputs": [],
   "source": [
    "from sklearn.linear_model import LinearRegression\n",
    "import pandas as pd\n",
    "import numpy as np"
   ]
  },
  {
   "cell_type": "code",
   "execution_count": null,
   "id": "4c6b04d9",
   "metadata": {},
   "outputs": [],
   "source": [
    "#inputdataは説明変数(今回は歩幅と頭の上下),anserは目的変数(今回は正解の順位)\n",
    "inputdata = pd.read_csv('データ/horse_racing_data2.csv', names=['stride', 'head'])\n",
    "anser = pd.read_csv('データ/anser_data.csv', names=['rank'])"
   ]
  },
  {
   "cell_type": "code",
   "execution_count": 27,
   "id": "9ab06447",
   "metadata": {},
   "outputs": [],
   "source": [
    "reg = LinearRegression().fit(X, y)"
   ]
  },
  {
   "cell_type": "code",
   "execution_count": 28,
   "id": "f5b72599",
   "metadata": {},
   "outputs": [
    {
     "name": "stdout",
     "output_type": "stream",
     "text": [
      "[8.20505574] [[0.25475882 0.00028076]]\n"
     ]
    }
   ],
   "source": [
    "#ここに各説明変数の係数が出力される\n",
    "print(reg.coef_)"
   ]
  }
 ],
 "metadata": {
  "kernelspec": {
   "display_name": "Python 3 (ipykernel)",
   "language": "python",
   "name": "python3"
  },
  "language_info": {
   "codemirror_mode": {
    "name": "ipython",
    "version": 3
   },
   "file_extension": ".py",
   "mimetype": "text/x-python",
   "name": "python",
   "nbconvert_exporter": "python",
   "pygments_lexer": "ipython3",
   "version": "3.9.12"
  }
 },
 "nbformat": 4,
 "nbformat_minor": 5
}
